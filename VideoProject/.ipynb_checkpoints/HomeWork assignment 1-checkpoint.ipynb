{
 "cells": [
  {
   "cell_type": "code",
   "execution_count": 1,
   "metadata": {},
   "outputs": [],
   "source": [
    "import cv2\n",
    "import numpy as np\n",
    "import matplotlib.pyplot as plt"
   ]
  },
  {
   "cell_type": "code",
   "execution_count": null,
   "metadata": {},
   "outputs": [],
   "source": [
    "video=cv2.VideoCapture('akki.mp4')\n",
    "while True:\n",
    "    ret,frame=video.read()\n",
    "    if ret==True:\n",
    "        logo=cv2.imread(\"cb.png\",cv2.IMREAD_UNCHANGED)\n",
    "\n",
    "        cb_rgba=cv2.cvtColor(logo,cv2.COLOR_BGRA2RGBA)\n",
    "\n",
    "        logo_small=cv2.resize(cb_rgba,(200,100))\n",
    "\n",
    "        x, y, w, h = 0, 0, logo_small.shape[1], logo_small.shape[0]\n",
    "        frame_new=frame[x:x+h ,y:]\n",
    "        alpha_logo=logo_small[:,:,3]\n",
    "        for row in range(alpha_logo.shape[0]):\n",
    "            for col in range(alpha_logo.shape[1]):\n",
    "                if alpha_logo[row,col]>=155:\n",
    "                    frame_new[row,col]=logo_small[row,col, :3]\n",
    "\n",
    "            \n",
    "        cv2.imshow('Frame',frame)\n",
    "        if cv2.waitKey(1) & 0xFF ==ord('q'):\n",
    "            break\n",
    "    else:\n",
    "        break\n",
    "        \n",
    "video.release()\n",
    "cv2.destroyAllWindows()"
   ]
  },
  {
   "cell_type": "code",
   "execution_count": null,
   "metadata": {},
   "outputs": [],
   "source": []
  },
  {
   "cell_type": "code",
   "execution_count": 171,
   "metadata": {},
   "outputs": [],
   "source": [
    "frame?"
   ]
  },
  {
   "cell_type": "code",
   "execution_count": 175,
   "metadata": {},
   "outputs": [],
   "source": [
    "out=cv2.VideoWriter('babu.mp4',cv2.VideoWriter_fourcc('M','J','P','G'),10,(1200,1200))"
   ]
  },
  {
   "cell_type": "code",
   "execution_count": 176,
   "metadata": {},
   "outputs": [
    {
     "data": {
      "text/plain": [
       "<VideoWriter 10FC7DA0>"
      ]
     },
     "execution_count": 176,
     "metadata": {},
     "output_type": "execute_result"
    }
   ],
   "source": [
    "out"
   ]
  },
  {
   "cell_type": "code",
   "execution_count": null,
   "metadata": {},
   "outputs": [],
   "source": []
  }
 ],
 "metadata": {
  "kernelspec": {
   "display_name": "Python 3",
   "language": "python",
   "name": "python3"
  },
  "language_info": {
   "codemirror_mode": {
    "name": "ipython",
    "version": 3
   },
   "file_extension": ".py",
   "mimetype": "text/x-python",
   "name": "python",
   "nbconvert_exporter": "python",
   "pygments_lexer": "ipython3",
   "version": "3.7.3"
  }
 },
 "nbformat": 4,
 "nbformat_minor": 2
}
