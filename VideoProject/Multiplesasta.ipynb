{
 "cells": [
  {
   "cell_type": "code",
   "execution_count": 1,
   "metadata": {},
   "outputs": [],
   "source": [
    "import numpy as np\n",
    "import random\n",
    "import matplotlib.pyplot as plt\n",
    "from sklearn.datasets import make_regression"
   ]
  },
  {
   "cell_type": "code",
   "execution_count": 4,
   "metadata": {},
   "outputs": [],
   "source": [
    "class MultipleSasta:\n",
    "    \n",
    "    def __init__(self,lr,max_iter):\n",
    "        self.lr=lr\n",
    "        self.max_iter=max_iter\n",
    "\n",
    "        \n",
    "    def fit(self,X,y):\n",
    "        self._X=X\n",
    "        self._y=y.reshape(-1,1)\n",
    "        self.n_features=X.shape[1]\n",
    "\n",
    "        self.coeff_=np.random.random(self.n_features)\n",
    "        self.intercept_=np.random.random()\n",
    "        \n",
    "        errors=[]\n",
    "        \n",
    "        for i in range(self.max_iter):\n",
    "            self.gradient_descend()\n",
    "            errors.append(self.error())\n",
    "            \n",
    "        return errors\n",
    "        \n",
    "    def gradient_descend(self):\n",
    "            d_coeff,d_intercept= self.gradient()\n",
    "            \n",
    "            self.coeff_-=d_coeff*self.lr\n",
    "            self.intercept_-=d_intercept*self.lr\n",
    "            \n",
    "    def gradient(self):\n",
    "            \n",
    "            yp=self.hypothesis(self._X)\n",
    "            d_coeff=np.dot((yp-self._y).T,self._X)/len(self._X)\n",
    "            d_intercept=(yp-self._y).mean()\n",
    "            \n",
    "            return d_coeff.flatten(),d_intercept\n",
    "            \n",
    "        \n",
    "    def hypothesis(self,X):\n",
    "        return np.sum(self.coeff_*X,axis=1,keepdims=True)+self.intercept_\n",
    "    \n",
    "    def predict(self,X):\n",
    "        return self.hypothesis(X).flatten()\n",
    "    \n",
    "    def error(self):\n",
    "        ya = self._y\n",
    "        yp = self.hypothesis(self._X)\n",
    "        \n",
    "        return ((yp-ya)**2).mean()"
   ]
  },
  {
   "cell_type": "code",
   "execution_count": 5,
   "metadata": {},
   "outputs": [
    {
     "data": {
      "text/plain": [
       "[<matplotlib.lines.Line2D at 0x49257d0>]"
      ]
     },
     "execution_count": 5,
     "metadata": {},
     "output_type": "execute_result"
    },
    {
     "data": {
      "image/png": "[encoded data removed]",
      "text/plain": [
       "<Figure size 432x288 with 1 Axes>"
      ]
     },
     "metadata": {
      "needs_background": "light"
     },
     "output_type": "display_data"
    }
   ],
   "source": [
    "# X, y = make_regression(n_features=3, bias=100, noise=3, random_state=42)\n",
    "# model = MultipleSasta(lr=1, max_iter=100)\n",
    "# errors = model.fit(X, y)\n",
    "# plt.plot(errors)\n"
   ]
  },
  {
   "cell_type": "code",
   "execution_count": 7,
   "metadata": {},
   "outputs": [],
   "source": [
    "# print(y[:20])\n",
    "# print(model.predict(X[:20]))"
   ]
  },
  {
   "cell_type": "code",
   "execution_count": null,
   "metadata": {},
   "outputs": [],
   "source": []
  }
 ],
 "metadata": {
  "kernelspec": {
   "display_name": "Python 3",
   "language": "python",
   "name": "python3"
  },
  "language_info": {
   "codemirror_mode": {
    "name": "ipython",
    "version": 3
   },
   "file_extension": ".py",
   "mimetype": "text/x-python",
   "name": "python",
   "nbconvert_exporter": "python",
   "pygments_lexer": "ipython3",
   "version": "3.7.3"
  }
 },
 "nbformat": 4,
 "nbformat_minor": 2
}
