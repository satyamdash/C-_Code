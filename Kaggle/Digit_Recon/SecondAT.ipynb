{
 "cells": [
  {
   "cell_type": "code",
   "execution_count": 35,
   "metadata": {},
   "outputs": [],
   "source": [
    "import pandas as pd\n",
    "import numpy as np\n",
    "import matplotlib.pyplot as plt\n",
    "from keras.layers import Dense, Input, Conv2D, MaxPooling2D, Flatten\n",
    "from keras.models import Model\n",
    "from sklearn.preprocessing import OneHotEncoder"
   ]
  },
  {
   "cell_type": "code",
   "execution_count": 2,
   "metadata": {},
   "outputs": [],
   "source": [
    "train_data=pd.read_csv('train.csv')\n",
    "test_data=pd.read_csv('test.csv')\n",
    "sample_sub=pd.read_csv('sample_submission.csv')"
   ]
  },
  {
   "cell_type": "code",
   "execution_count": 38,
   "metadata": {},
   "outputs": [],
   "source": [
    "label=train_data['label'].values\n",
    "train_data.drop('label',axis=1,inplace=True)"
   ]
  },
  {
   "cell_type": "code",
   "execution_count": 4,
   "metadata": {},
   "outputs": [],
   "source": [
    "np_values=train_data.values"
   ]
  },
  {
   "cell_type": "code",
   "execution_count": 5,
   "metadata": {},
   "outputs": [
    {
     "data": {
      "text/plain": [
       "(42000, 784)"
      ]
     },
     "execution_count": 5,
     "metadata": {},
     "output_type": "execute_result"
    }
   ],
   "source": [
    "np_values.shape"
   ]
  },
  {
   "cell_type": "code",
   "execution_count": 31,
   "metadata": {},
   "outputs": [],
   "source": [
    "img=(np_values[1]).reshape(28,28)"
   ]
  },
  {
   "cell_type": "code",
   "execution_count": 32,
   "metadata": {},
   "outputs": [
    {
     "data": {
      "text/plain": [
       "(28, 28)"
      ]
     },
     "execution_count": 32,
     "metadata": {},
     "output_type": "execute_result"
    }
   ],
   "source": [
    "img.shape"
   ]
  },
  {
   "cell_type": "code",
   "execution_count": 33,
   "metadata": {},
   "outputs": [
    {
     "data": {
      "image/png": "[encoded data removed]",
      "text/plain": [
       "<Figure size 432x288 with 1 Axes>"
      ]
     },
     "metadata": {
      "needs_background": "light"
     },
     "output_type": "display_data"
    }
   ],
   "source": [
    "plt.imshow(img)\n",
    "plt.show()"
   ]
  },
  {
   "cell_type": "code",
   "execution_count": 41,
   "metadata": {},
   "outputs": [],
   "source": [
    "label=label.values"
   ]
  },
  {
   "cell_type": "code",
   "execution_count": 43,
   "metadata": {},
   "outputs": [],
   "source": [
    "ohe = OneHotEncoder(categories=\"auto\")\n",
    "y_hot = ohe.fit_transform(label.reshape(-1, 1))"
   ]
  },
  {
   "cell_type": "code",
   "execution_count": 46,
   "metadata": {},
   "outputs": [
    {
     "name": "stdout",
     "output_type": "stream",
     "text": [
      "Train on 31500 samples, validate on 10500 samples\n",
      "Epoch 1/5\n",
      "31500/31500 [==============================] - 16s 514us/step - loss: 1.2993 - accuracy: 0.7595 - val_loss: 0.5830 - val_accuracy: 0.9226\n",
      "Epoch 2/5\n",
      "31500/31500 [==============================] - 13s 410us/step - loss: 0.3699 - accuracy: 0.9419 - val_loss: 0.2215 - val_accuracy: 0.9609\n",
      "Epoch 3/5\n",
      "31500/31500 [==============================] - 12s 396us/step - loss: 0.1779 - accuracy: 0.9658 - val_loss: 0.1347 - val_accuracy: 0.9724\n",
      "Epoch 4/5\n",
      "31500/31500 [==============================] - 13s 406us/step - loss: 0.1140 - accuracy: 0.9772 - val_loss: 0.1018 - val_accuracy: 0.9779\n",
      "Epoch 5/5\n",
      "31500/31500 [==============================] - 12s 385us/step - loss: 0.0831 - accuracy: 0.9834 - val_loss: 0.0796 - val_accuracy: 0.9828\n"
     ]
    }
   ],
   "source": [
    "in_layer = Input((28, 28, 1))\n",
    "con1 = Conv2D(16, (3, 3), activation=\"relu\")(in_layer)\n",
    "p1 = MaxPooling2D()(con1)\n",
    "con2 = Conv2D(32, (3, 3), activation=\"relu\")(p1)\n",
    "p2 = MaxPooling2D()(con2)\n",
    "flat = Flatten()(p2)\n",
    "d1 = Dense(400, activation=\"sigmoid\", name=\"chacha\")(flat)\n",
    "d2 = Dense(100, activation=\"sigmoid\", name=\"mama\")(d1)\n",
    "d3 = Dense(10, activation=\"softmax\", name=\"taya\")(d2)\n",
    "\n",
    "model=Model(in_layer,d3)\n",
    "\n",
    "model.compile(optimizer=\"adam\", loss=\"categorical_crossentropy\", metrics=[\"accuracy\"])\n",
    "\n",
    "hist=model.fit(np_values.reshape((-1,28,28,1)),y_hot,epochs=5,batch_size=1000,validation_split=0.25)"
   ]
  },
  {
   "cell_type": "code",
   "execution_count": 48,
   "metadata": {},
   "outputs": [],
   "source": [
    "to_predict=test_data.values"
   ]
  },
  {
   "cell_type": "code",
   "execution_count": 51,
   "metadata": {},
   "outputs": [],
   "source": [
    "prediction=model.predict(to_predict.reshape((-1,28,28,1)))"
   ]
  },
  {
   "cell_type": "code",
   "execution_count": 55,
   "metadata": {},
   "outputs": [],
   "source": [
    "real_pred=ohe.inverse_transform(prediction)"
   ]
  },
  {
   "cell_type": "code",
   "execution_count": 57,
   "metadata": {},
   "outputs": [],
   "source": [
    "Real=pd.DataFrame(real_pred)"
   ]
  },
  {
   "cell_type": "code",
   "execution_count": 62,
   "metadata": {},
   "outputs": [],
   "source": [
    "sample_sub['Label']=Real"
   ]
  },
  {
   "cell_type": "code",
   "execution_count": 66,
   "metadata": {},
   "outputs": [],
   "source": [
    "sample_sub.to_csv(\"mysubmission.csv\",index=False)"
   ]
  },
  {
   "cell_type": "code",
   "execution_count": 69,
   "metadata": {},
   "outputs": [],
   "source": [
    "images=to_predict.reshape((-1,28,28,1))"
   ]
  },
  {
   "cell_type": "code",
   "execution_count": 70,
   "metadata": {},
   "outputs": [
    {
     "data": {
      "text/plain": [
       "(28000, 28, 28, 1)"
      ]
     },
     "execution_count": 70,
     "metadata": {},
     "output_type": "execute_result"
    }
   ],
   "source": [
    "images.shape"
   ]
  },
  {
   "cell_type": "code",
   "execution_count": null,
   "metadata": {},
   "outputs": [],
   "source": []
  }
 ],
 "metadata": {
  "kernelspec": {
   "display_name": "Python 3",
   "language": "python",
   "name": "python3"
  },
  "language_info": {
   "codemirror_mode": {
    "name": "ipython",
    "version": 3
   },
   "file_extension": ".py",
   "mimetype": "text/x-python",
   "name": "python",
   "nbconvert_exporter": "python",
   "pygments_lexer": "ipython3",
   "version": "3.6.8"
  }
 },
 "nbformat": 4,
 "nbformat_minor": 4
}
