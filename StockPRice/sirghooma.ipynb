{
 "cells": [
  {
   "cell_type": "code",
   "execution_count": 1,
   "metadata": {},
   "outputs": [],
   "source": [
    "import pandas as pd \n",
    "import numpy as np"
   ]
  },
  {
   "cell_type": "code",
   "execution_count": 13,
   "metadata": {},
   "outputs": [],
   "source": [
    "Curr=pd.read_csv(\"x_train.csv\")\n",
    "Next=pd.read_csv(\"y_train.csv\")\n",
    "Test=pd.read_csv(\"x_test.csv\")"
   ]
  },
  {
   "cell_type": "code",
   "execution_count": 15,
   "metadata": {},
   "outputs": [],
   "source": [
    "X_train=Curr.values"
   ]
  },
  {
   "cell_type": "code",
   "execution_count": 27,
   "metadata": {},
   "outputs": [],
   "source": [
    "X_train=X_train.reshape(-1,1,1)\n",
    "y_train=Next.values"
   ]
  },
  {
   "cell_type": "code",
   "execution_count": 3,
   "metadata": {},
   "outputs": [],
   "source": [
    "from tensorflow.keras.layers import *\n",
    "from tensorflow.keras.models import Model,Sequential"
   ]
  },
  {
   "cell_type": "code",
   "execution_count": 47,
   "metadata": {},
   "outputs": [],
   "source": [
    "model = Sequential()\n",
    "model.add(LSTM(units=50,return_sequences=True,input_shape=(X_train.shape[1], 1)))\n",
    "model.add(Dropout(0.2))\n",
    "model.add(LSTM(units=50,return_sequences=True))\n",
    "model.add(Dropout(0.2))\n",
    "model.add(LSTM(units=50,return_sequences=True))\n",
    "model.add(Dropout(0.2))\n",
    "model.add(LSTM(units=50))\n",
    "model.add(Dropout(0.2))\n",
    "model.add(Dense(1,activation=\"linear\"))\n",
    "model.compile(optimizer='adam',loss='mean_squared_error',metrics=[\"accuracy\"])"
   ]
  },
  {
   "cell_type": "code",
   "execution_count": 48,
   "metadata": {},
   "outputs": [
    {
     "name": "stdout",
     "output_type": "stream",
     "text": [
      "Model: \"sequential_6\"\n",
      "_________________________________________________________________\n",
      "Layer (type)                 Output Shape              Param #   \n",
      "=================================================================\n",
      "lstm_16 (LSTM)               (None, 1, 50)             10400     \n",
      "_________________________________________________________________\n",
      "dropout_16 (Dropout)         (None, 1, 50)             0         \n",
      "_________________________________________________________________\n",
      "lstm_17 (LSTM)               (None, 1, 50)             20200     \n",
      "_________________________________________________________________\n",
      "dropout_17 (Dropout)         (None, 1, 50)             0         \n",
      "_________________________________________________________________\n",
      "lstm_18 (LSTM)               (None, 1, 50)             20200     \n",
      "_________________________________________________________________\n",
      "dropout_18 (Dropout)         (None, 1, 50)             0         \n",
      "_________________________________________________________________\n",
      "lstm_19 (LSTM)               (None, 50)                20200     \n",
      "_________________________________________________________________\n",
      "dropout_19 (Dropout)         (None, 50)                0         \n",
      "_________________________________________________________________\n",
      "dense_4 (Dense)              (None, 1)                 51        \n",
      "=================================================================\n",
      "Total params: 71,051\n",
      "Trainable params: 71,051\n",
      "Non-trainable params: 0\n",
      "_________________________________________________________________\n"
     ]
    }
   ],
   "source": [
    "model.summary()"
   ]
  },
  {
   "cell_type": "code",
   "execution_count": 51,
   "metadata": {},
   "outputs": [],
   "source": [
    "hist=model.fit(X_train,y_train,epochs=100,batch_size=32)"
   ]
  },
  {
   "cell_type": "code",
   "execution_count": null,
   "metadata": {},
   "outputs": [],
   "source": []
  },
  {
   "cell_type": "code",
   "execution_count": 111,
   "metadata": {},
   "outputs": [],
   "source": [
    "from sklearn.preprocessing import MinMaxScaler\n",
    "sc = MinMaxScaler(feature_range = (0, 1))\n",
    "X_train = sc.fit_transform(Curr)\n",
    "y_train=sc.fit_transform(Next)\n",
    "X_test=sc.fit_transform(Test)"
   ]
  },
  {
   "cell_type": "code",
   "execution_count": 112,
   "metadata": {},
   "outputs": [],
   "source": [
    "X_train=X_train.reshape(-1,1,1)\n",
    "X_test=X_test.reshape(-1,1,1)"
   ]
  },
  {
   "cell_type": "code",
   "execution_count": 91,
   "metadata": {},
   "outputs": [],
   "source": [
    "y_train=y_train.reshape(-1,1)"
   ]
  },
  {
   "cell_type": "code",
   "execution_count": 92,
   "metadata": {},
   "outputs": [
    {
     "data": {
      "text/plain": [
       "(1257, 1, 1)"
      ]
     },
     "execution_count": 92,
     "metadata": {},
     "output_type": "execute_result"
    }
   ],
   "source": [
    "X_train.shape"
   ]
  },
  {
   "cell_type": "code",
   "execution_count": 93,
   "metadata": {},
   "outputs": [
    {
     "data": {
      "text/plain": [
       "(1257, 1)"
      ]
     },
     "execution_count": 93,
     "metadata": {},
     "output_type": "execute_result"
    }
   ],
   "source": [
    "y_train.shape"
   ]
  },
  {
   "cell_type": "code",
   "execution_count": 73,
   "metadata": {},
   "outputs": [],
   "source": [
    "from tensorflow.keras.layers import *\n",
    "from tensorflow.keras.models import Model,Sequential"
   ]
  },
  {
   "cell_type": "code",
   "execution_count": 121,
   "metadata": {},
   "outputs": [
    {
     "name": "stdout",
     "output_type": "stream",
     "text": [
      "Model: \"sequential_5\"\n",
      "_________________________________________________________________\n",
      "Layer (type)                 Output Shape              Param #   \n",
      "=================================================================\n",
      "lstm_9 (LSTM)                (None, None, 32)          4352      \n",
      "_________________________________________________________________\n",
      "lstm_10 (LSTM)               (None, None, 9)           1512      \n",
      "_________________________________________________________________\n",
      "lstm_11 (LSTM)               (None, 3)                 156       \n",
      "_________________________________________________________________\n",
      "dense_5 (Dense)              (None, 1)                 4         \n",
      "=================================================================\n",
      "Total params: 6,024\n",
      "Trainable params: 6,024\n",
      "Non-trainable params: 0\n",
      "_________________________________________________________________\n"
     ]
    }
   ],
   "source": [
    "\n",
    "\n",
    "# Importing the Keras libraries and packages\n",
    "from keras.models import Sequential\n",
    "from keras.layers import Dense\n",
    "from keras.layers import LSTM\n",
    "from keras.optimizers import Adam\n",
    "\n",
    "# Initialising the RNN\n",
    "regressor = Sequential()\n",
    "\n",
    "# Adding the input layer and the LSTM layer\n",
    "regressor.add(LSTM(units = 32, return_sequences = True, input_shape = (None, 1)))\n",
    "\n",
    "# # Adding a second LSTM layer\n",
    "regressor.add(LSTM(units = 9, return_sequences = True))\n",
    "\n",
    "# # Adding a third LSTM layer\n",
    "# regressor.add(LSTM(units = 16, return_sequences = True))\n",
    "\n",
    "# Adding a fourth LSTM layer\n",
    "regressor.add(LSTM(units = 3))\n",
    "\n",
    "# Adding the output layer\n",
    "regressor.add(Dense(units = 1))\n",
    "\n",
    "# Compiling the RNN\n",
    "regressor.compile(optimizer =\"adam\", loss = 'mean_squared_error', metrics= ['accuracy'])\n",
    "\n",
    "regressor.summary()\n",
    "\n"
   ]
  },
  {
   "cell_type": "code",
   "execution_count": 122,
   "metadata": {},
   "outputs": [
    {
     "name": "stdout",
     "output_type": "stream",
     "text": [
      "Train on 1005 samples, validate on 252 samples\n",
      "Epoch 1/100\n",
      "1005/1005 [==============================] - 1s 1ms/step - loss: 0.1782 - accuracy: 9.9502e-04 - val_loss: 0.6650 - val_accuracy: 0.0000e+00\n",
      "Epoch 2/100\n",
      "1005/1005 [==============================] - 0s 150us/step - loss: 0.1337 - accuracy: 9.9502e-04 - val_loss: 0.5157 - val_accuracy: 0.0000e+00\n",
      "Epoch 3/100\n",
      "1005/1005 [==============================] - 0s 154us/step - loss: 0.0783 - accuracy: 9.9502e-04 - val_loss: 0.2642 - val_accuracy: 0.0000e+00\n",
      "Epoch 4/100\n",
      "1005/1005 [==============================] - 0s 150us/step - loss: 0.0338 - accuracy: 9.9502e-04 - val_loss: 0.0904 - val_accuracy: 0.0040\n",
      "Epoch 5/100\n",
      "1005/1005 [==============================] - 0s 155us/step - loss: 0.0245 - accuracy: 9.9502e-04 - val_loss: 0.0758 - val_accuracy: 0.0040\n",
      "Epoch 6/100\n",
      "1005/1005 [==============================] - 0s 169us/step - loss: 0.0183 - accuracy: 9.9502e-04 - val_loss: 0.0479 - val_accuracy: 0.0040\n",
      "Epoch 7/100\n",
      "1005/1005 [==============================] - 0s 169us/step - loss: 0.0119 - accuracy: 9.9502e-04 - val_loss: 0.0206 - val_accuracy: 0.0040\n",
      "Epoch 8/100\n",
      "1005/1005 [==============================] - 0s 218us/step - loss: 0.0067 - accuracy: 9.9502e-04 - val_loss: 0.0060 - val_accuracy: 0.0040\n",
      "Epoch 9/100\n",
      "1005/1005 [==============================] - 0s 235us/step - loss: 0.0033 - accuracy: 9.9502e-04 - val_loss: 7.2161e-04 - val_accuracy: 0.0040\n",
      "Epoch 10/100\n",
      "1005/1005 [==============================] - 0s 185us/step - loss: 0.0018 - accuracy: 9.9502e-04 - val_loss: 3.7874e-04 - val_accuracy: 0.0040\n",
      "Epoch 11/100\n",
      "1005/1005 [==============================] - 0s 172us/step - loss: 0.0012 - accuracy: 9.9502e-04 - val_loss: 9.0376e-04 - val_accuracy: 0.0040\n",
      "Epoch 12/100\n",
      "1005/1005 [==============================] - 0s 154us/step - loss: 0.0011 - accuracy: 9.9502e-04 - val_loss: 9.7673e-04 - val_accuracy: 0.0040\n",
      "Epoch 13/100\n",
      "1005/1005 [==============================] - 0s 229us/step - loss: 9.6569e-04 - accuracy: 9.9502e-04 - val_loss: 9.5562e-04 - val_accuracy: 0.0040\n",
      "Epoch 14/100\n",
      "1005/1005 [==============================] - 0s 211us/step - loss: 8.9261e-04 - accuracy: 9.9502e-04 - val_loss: 7.8757e-04 - val_accuracy: 0.0040\n",
      "Epoch 15/100\n",
      "1005/1005 [==============================] - 0s 199us/step - loss: 8.2738e-04 - accuracy: 9.9502e-04 - val_loss: 7.0975e-04 - val_accuracy: 0.0040\n",
      "Epoch 16/100\n",
      "1005/1005 [==============================] - 0s 214us/step - loss: 7.7073e-04 - accuracy: 9.9502e-04 - val_loss: 4.4873e-04 - val_accuracy: 0.0040\n",
      "Epoch 17/100\n",
      "1005/1005 [==============================] - 0s 194us/step - loss: 7.1245e-04 - accuracy: 9.9502e-04 - val_loss: 4.8300e-04 - val_accuracy: 0.0040\n",
      "Epoch 18/100\n",
      "1005/1005 [==============================] - 0s 165us/step - loss: 6.6830e-04 - accuracy: 9.9502e-04 - val_loss: 4.1183e-04 - val_accuracy: 0.0040\n",
      "Epoch 19/100\n",
      "1005/1005 [==============================] - 0s 164us/step - loss: 6.3080e-04 - accuracy: 9.9502e-04 - val_loss: 4.2084e-04 - val_accuracy: 0.0040\n",
      "Epoch 20/100\n",
      "1005/1005 [==============================] - ETA: 0s - loss: 5.9944e-04 - accuracy: 0.00 - 0s 235us/step - loss: 5.8668e-04 - accuracy: 9.9502e-04 - val_loss: 3.8529e-04 - val_accuracy: 0.0040\n",
      "Epoch 21/100\n",
      "1005/1005 [==============================] - 0s 306us/step - loss: 5.5632e-04 - accuracy: 9.9502e-04 - val_loss: 4.1149e-04 - val_accuracy: 0.0040\n",
      "Epoch 22/100\n",
      "1005/1005 [==============================] - 0s 227us/step - loss: 5.3444e-04 - accuracy: 9.9502e-04 - val_loss: 4.4962e-04 - val_accuracy: 0.0040\n",
      "Epoch 23/100\n",
      "1005/1005 [==============================] - 0s 252us/step - loss: 5.0704e-04 - accuracy: 9.9502e-04 - val_loss: 5.1854e-04 - val_accuracy: 0.0040\n",
      "Epoch 24/100\n",
      "1005/1005 [==============================] - 0s 220us/step - loss: 4.8816e-04 - accuracy: 9.9502e-04 - val_loss: 6.5412e-04 - val_accuracy: 0.0040\n",
      "Epoch 25/100\n",
      "1005/1005 [==============================] - 0s 207us/step - loss: 4.7242e-04 - accuracy: 9.9502e-04 - val_loss: 7.6776e-04 - val_accuracy: 0.0040\n",
      "Epoch 26/100\n",
      "1005/1005 [==============================] - 0s 228us/step - loss: 4.5457e-04 - accuracy: 9.9502e-04 - val_loss: 7.5362e-04 - val_accuracy: 0.0040\n",
      "Epoch 27/100\n",
      "1005/1005 [==============================] - 0s 218us/step - loss: 4.4652e-04 - accuracy: 9.9502e-04 - val_loss: 7.6597e-04 - val_accuracy: 0.0040\n",
      "Epoch 28/100\n",
      "1005/1005 [==============================] - 0s 243us/step - loss: 4.4248e-04 - accuracy: 9.9502e-04 - val_loss: 0.0010 - val_accuracy: 0.0040\n",
      "Epoch 29/100\n",
      "1005/1005 [==============================] - 0s 157us/step - loss: 4.2816e-04 - accuracy: 9.9502e-04 - val_loss: 9.9909e-04 - val_accuracy: 0.0040\n",
      "Epoch 30/100\n",
      "1005/1005 [==============================] - 0s 207us/step - loss: 4.2274e-04 - accuracy: 9.9502e-04 - val_loss: 0.0011 - val_accuracy: 0.0040\n",
      "Epoch 31/100\n",
      "1005/1005 [==============================] - 0s 164us/step - loss: 4.1573e-04 - accuracy: 9.9502e-04 - val_loss: 0.0012 - val_accuracy: 0.0040\n",
      "Epoch 32/100\n",
      "1005/1005 [==============================] - 0s 169us/step - loss: 4.0921e-04 - accuracy: 9.9502e-04 - val_loss: 0.0012 - val_accuracy: 0.0040\n",
      "Epoch 33/100\n",
      "1005/1005 [==============================] - 0s 169us/step - loss: 4.0591e-04 - accuracy: 9.9502e-04 - val_loss: 0.0012 - val_accuracy: 0.0040\n",
      "Epoch 34/100\n",
      "1005/1005 [==============================] - 0s 177us/step - loss: 4.0364e-04 - accuracy: 9.9502e-04 - val_loss: 0.0013 - val_accuracy: 0.0040\n",
      "Epoch 35/100\n",
      "1005/1005 [==============================] - 0s 175us/step - loss: 4.0386e-04 - accuracy: 9.9502e-04 - val_loss: 0.0012 - val_accuracy: 0.0040\n",
      "Epoch 36/100\n",
      "1005/1005 [==============================] - 0s 205us/step - loss: 3.9461e-04 - accuracy: 9.9502e-04 - val_loss: 0.0014 - val_accuracy: 0.0040\n",
      "Epoch 37/100\n",
      "1005/1005 [==============================] - 0s 258us/step - loss: 3.9144e-04 - accuracy: 9.9502e-04 - val_loss: 0.0015 - val_accuracy: 0.0040\n",
      "Epoch 38/100\n",
      "1005/1005 [==============================] - 0s 254us/step - loss: 3.9260e-04 - accuracy: 9.9502e-04 - val_loss: 0.0017 - val_accuracy: 0.0040\n",
      "Epoch 39/100\n",
      "1005/1005 [==============================] - 0s 203us/step - loss: 3.8866e-04 - accuracy: 9.9502e-04 - val_loss: 0.0013 - val_accuracy: 0.0040\n",
      "Epoch 40/100\n",
      "1005/1005 [==============================] - 0s 227us/step - loss: 3.8825e-04 - accuracy: 9.9502e-04 - val_loss: 0.0014 - val_accuracy: 0.0040\n",
      "Epoch 41/100\n",
      "1005/1005 [==============================] - 0s 241us/step - loss: 3.8230e-04 - accuracy: 9.9502e-04 - val_loss: 0.0015 - val_accuracy: 0.0040\n",
      "Epoch 42/100\n",
      "1005/1005 [==============================] - 0s 215us/step - loss: 3.7838e-04 - accuracy: 9.9502e-04 - val_loss: 0.0016 - val_accuracy: 0.0040\n",
      "Epoch 43/100\n",
      "1005/1005 [==============================] - 0s 175us/step - loss: 3.8136e-04 - accuracy: 9.9502e-04 - val_loss: 0.0016 - val_accuracy: 0.0040\n",
      "Epoch 44/100\n",
      "1005/1005 [==============================] - 0s 267us/step - loss: 3.7890e-04 - accuracy: 9.9502e-04 - val_loss: 0.0017 - val_accuracy: 0.0040\n",
      "Epoch 45/100\n",
      "1005/1005 [==============================] - 0s 228us/step - loss: 3.8796e-04 - accuracy: 9.9502e-04 - val_loss: 0.0014 - val_accuracy: 0.0040\n",
      "Epoch 46/100\n",
      "1005/1005 [==============================] - 0s 151us/step - loss: 3.7494e-04 - accuracy: 9.9502e-04 - val_loss: 0.0017 - val_accuracy: 0.0040\n",
      "Epoch 47/100\n",
      "1005/1005 [==============================] - 0s 165us/step - loss: 3.6694e-04 - accuracy: 9.9502e-04 - val_loss: 0.0017 - val_accuracy: 0.0040\n",
      "Epoch 48/100\n",
      "1005/1005 [==============================] - 0s 214us/step - loss: 3.6138e-04 - accuracy: 9.9502e-04 - val_loss: 0.0017 - val_accuracy: 0.0040\n",
      "Epoch 49/100\n",
      "1005/1005 [==============================] - 0s 274us/step - loss: 3.6156e-04 - accuracy: 9.9502e-04 - val_loss: 0.0015 - val_accuracy: 0.0040\n",
      "Epoch 50/100\n",
      "1005/1005 [==============================] - 0s 178us/step - loss: 3.5791e-04 - accuracy: 9.9502e-04 - val_loss: 0.0016 - val_accuracy: 0.0040\n",
      "Epoch 51/100\n",
      "1005/1005 [==============================] - 0s 165us/step - loss: 3.5978e-04 - accuracy: 9.9502e-04 - val_loss: 0.0014 - val_accuracy: 0.0040\n",
      "Epoch 52/100\n",
      "1005/1005 [==============================] - 0s 168us/step - loss: 3.5331e-04 - accuracy: 9.9502e-04 - val_loss: 0.0015 - val_accuracy: 0.0040\n",
      "Epoch 53/100\n",
      "1005/1005 [==============================] - 0s 300us/step - loss: 3.5314e-04 - accuracy: 9.9502e-04 - val_loss: 0.0012 - val_accuracy: 0.0040\n",
      "Epoch 54/100\n",
      "1005/1005 [==============================] - 0s 273us/step - loss: 3.5116e-04 - accuracy: 9.9502e-04 - val_loss: 0.0014 - val_accuracy: 0.0040\n",
      "Epoch 55/100\n",
      "1005/1005 [==============================] - 0s 237us/step - loss: 3.4722e-04 - accuracy: 9.9502e-04 - val_loss: 0.0016 - val_accuracy: 0.0040\n",
      "Epoch 56/100\n",
      "1005/1005 [==============================] - 0s 245us/step - loss: 3.4879e-04 - accuracy: 9.9502e-04 - val_loss: 0.0015 - val_accuracy: 0.0040\n",
      "Epoch 57/100\n",
      "1005/1005 [==============================] - 0s 229us/step - loss: 3.4155e-04 - accuracy: 9.9502e-04 - val_loss: 0.0014 - val_accuracy: 0.0040\n",
      "Epoch 58/100\n",
      "1005/1005 [==============================] - 0s 270us/step - loss: 3.4181e-04 - accuracy: 9.9502e-04 - val_loss: 0.0013 - val_accuracy: 0.0040\n",
      "Epoch 59/100\n",
      "1005/1005 [==============================] - 0s 236us/step - loss: 3.4168e-04 - accuracy: 9.9502e-04 - val_loss: 0.0015 - val_accuracy: 0.0040\n",
      "Epoch 60/100\n",
      "1005/1005 [==============================] - 0s 261us/step - loss: 3.5363e-04 - accuracy: 9.9502e-04 - val_loss: 0.0010 - val_accuracy: 0.0040\n",
      "Epoch 61/100\n",
      "1005/1005 [==============================] - 0s 221us/step - loss: 3.3396e-04 - accuracy: 9.9502e-04 - val_loss: 0.0013 - val_accuracy: 0.0040\n",
      "Epoch 62/100\n",
      "1005/1005 [==============================] - 0s 228us/step - loss: 3.4418e-04 - accuracy: 9.9502e-04 - val_loss: 0.0016 - val_accuracy: 0.0040\n",
      "Epoch 63/100\n",
      "1005/1005 [==============================] - 0s 261us/step - loss: 3.3050e-04 - accuracy: 9.9502e-04 - val_loss: 0.0011 - val_accuracy: 0.0040\n",
      "Epoch 64/100\n",
      "1005/1005 [==============================] - 0s 208us/step - loss: 3.2826e-04 - accuracy: 9.9502e-04 - val_loss: 0.0012 - val_accuracy: 0.0040\n",
      "Epoch 65/100\n",
      "1005/1005 [==============================] - 0s 168us/step - loss: 3.2116e-04 - accuracy: 9.9502e-04 - val_loss: 0.0013 - val_accuracy: 0.0040\n",
      "Epoch 66/100\n",
      "1005/1005 [==============================] - 0s 146us/step - loss: 3.2851e-04 - accuracy: 9.9502e-04 - val_loss: 8.3340e-04 - val_accuracy: 0.0040\n",
      "Epoch 67/100\n",
      "1005/1005 [==============================] - 0s 158us/step - loss: 3.2522e-04 - accuracy: 9.9502e-04 - val_loss: 0.0011 - val_accuracy: 0.0040\n",
      "Epoch 68/100\n",
      "1005/1005 [==============================] - 0s 180us/step - loss: 3.1758e-04 - accuracy: 9.9502e-04 - val_loss: 0.0010 - val_accuracy: 0.0040\n",
      "Epoch 69/100\n",
      "1005/1005 [==============================] - 0s 161us/step - loss: 3.1218e-04 - accuracy: 9.9502e-04 - val_loss: 0.0011 - val_accuracy: 0.0040\n",
      "Epoch 70/100\n",
      "1005/1005 [==============================] - 0s 200us/step - loss: 3.1479e-04 - accuracy: 9.9502e-04 - val_loss: 0.0011 - val_accuracy: 0.0040\n",
      "Epoch 71/100\n",
      "1005/1005 [==============================] - 0s 207us/step - loss: 3.0707e-04 - accuracy: 9.9502e-04 - val_loss: 0.0012 - val_accuracy: 0.0040\n",
      "Epoch 72/100\n",
      "1005/1005 [==============================] - 0s 163us/step - loss: 3.1979e-04 - accuracy: 9.9502e-04 - val_loss: 0.0010 - val_accuracy: 0.0040\n",
      "Epoch 73/100\n",
      "1005/1005 [==============================] - 0s 162us/step - loss: 3.1619e-04 - accuracy: 9.9502e-04 - val_loss: 0.0014 - val_accuracy: 0.0040\n",
      "Epoch 74/100\n",
      "1005/1005 [==============================] - 0s 174us/step - loss: 3.0934e-04 - accuracy: 9.9502e-04 - val_loss: 0.0014 - val_accuracy: 0.0040\n",
      "Epoch 75/100\n",
      "1005/1005 [==============================] - 0s 213us/step - loss: 3.0124e-04 - accuracy: 9.9502e-04 - val_loss: 0.0011 - val_accuracy: 0.0040\n",
      "Epoch 76/100\n",
      "1005/1005 [==============================] - 0s 167us/step - loss: 2.9737e-04 - accuracy: 9.9502e-04 - val_loss: 0.0010 - val_accuracy: 0.0040\n",
      "Epoch 77/100\n",
      "1005/1005 [==============================] - 0s 140us/step - loss: 3.0539e-04 - accuracy: 9.9502e-04 - val_loss: 0.0011 - val_accuracy: 0.0040\n",
      "Epoch 78/100\n",
      "1005/1005 [==============================] - 0s 189us/step - loss: 2.9430e-04 - accuracy: 9.9502e-04 - val_loss: 7.9656e-04 - val_accuracy: 0.0040\n",
      "Epoch 79/100\n",
      "1005/1005 [==============================] - 0s 201us/step - loss: 3.0245e-04 - accuracy: 9.9502e-04 - val_loss: 9.1543e-04 - val_accuracy: 0.0040\n",
      "Epoch 80/100\n",
      "1005/1005 [==============================] - 0s 189us/step - loss: 2.8854e-04 - accuracy: 9.9502e-04 - val_loss: 0.0010 - val_accuracy: 0.0040\n",
      "Epoch 81/100\n",
      "1005/1005 [==============================] - 0s 144us/step - loss: 2.9106e-04 - accuracy: 9.9502e-04 - val_loss: 0.0012 - val_accuracy: 0.0040\n",
      "Epoch 82/100\n",
      "1005/1005 [==============================] - 0s 152us/step - loss: 2.8352e-04 - accuracy: 9.9502e-04 - val_loss: 7.3743e-04 - val_accuracy: 0.0040\n",
      "Epoch 83/100\n",
      "1005/1005 [==============================] - 0s 212us/step - loss: 2.8380e-04 - accuracy: 9.9502e-04 - val_loss: 0.0013 - val_accuracy: 0.0040\n",
      "Epoch 84/100\n",
      "1005/1005 [==============================] - 0s 182us/step - loss: 2.8785e-04 - accuracy: 9.9502e-04 - val_loss: 0.0011 - val_accuracy: 0.0040\n",
      "Epoch 85/100\n",
      "1005/1005 [==============================] - 0s 140us/step - loss: 2.7736e-04 - accuracy: 9.9502e-04 - val_loss: 0.0011 - val_accuracy: 0.0040\n",
      "Epoch 86/100\n",
      "1005/1005 [==============================] - 0s 163us/step - loss: 2.7320e-04 - accuracy: 9.9502e-04 - val_loss: 0.0010 - val_accuracy: 0.0040\n",
      "Epoch 87/100\n",
      "1005/1005 [==============================] - 0s 140us/step - loss: 2.7141e-04 - accuracy: 9.9502e-04 - val_loss: 9.1444e-04 - val_accuracy: 0.0040\n",
      "Epoch 88/100\n",
      "1005/1005 [==============================] - 0s 135us/step - loss: 2.7315e-04 - accuracy: 9.9502e-04 - val_loss: 8.8583e-04 - val_accuracy: 0.0040\n",
      "Epoch 89/100\n",
      "1005/1005 [==============================] - 0s 185us/step - loss: 2.6561e-04 - accuracy: 9.9502e-04 - val_loss: 7.7390e-04 - val_accuracy: 0.0040\n",
      "Epoch 90/100\n",
      "1005/1005 [==============================] - 0s 244us/step - loss: 2.8051e-04 - accuracy: 9.9502e-04 - val_loss: 8.4773e-04 - val_accuracy: 0.0040\n",
      "Epoch 91/100\n",
      "1005/1005 [==============================] - 0s 225us/step - loss: 2.6938e-04 - accuracy: 9.9502e-04 - val_loss: 0.0010 - val_accuracy: 0.0040\n",
      "Epoch 92/100\n",
      "1005/1005 [==============================] - 0s 196us/step - loss: 2.6149e-04 - accuracy: 9.9502e-04 - val_loss: 8.2187e-04 - val_accuracy: 0.0040\n",
      "Epoch 93/100\n",
      "1005/1005 [==============================] - 0s 198us/step - loss: 2.5474e-04 - accuracy: 9.9502e-04 - val_loss: 8.1983e-04 - val_accuracy: 0.0040\n",
      "Epoch 94/100\n",
      "1005/1005 [==============================] - 0s 203us/step - loss: 2.5971e-04 - accuracy: 9.9502e-04 - val_loss: 8.3603e-04 - val_accuracy: 0.0040\n",
      "Epoch 95/100\n",
      "1005/1005 [==============================] - 0s 183us/step - loss: 2.5436e-04 - accuracy: 9.9502e-04 - val_loss: 0.0011 - val_accuracy: 0.0040\n",
      "Epoch 96/100\n",
      "1005/1005 [==============================] - 0s 219us/step - loss: 2.5052e-04 - accuracy: 9.9502e-04 - val_loss: 7.4906e-04 - val_accuracy: 0.0040\n",
      "Epoch 97/100\n",
      "1005/1005 [==============================] - 0s 249us/step - loss: 2.5276e-04 - accuracy: 9.9502e-04 - val_loss: 7.3187e-04 - val_accuracy: 0.0040\n",
      "Epoch 98/100\n",
      "1005/1005 [==============================] - 0s 179us/step - loss: 2.4289e-04 - accuracy: 9.9502e-04 - val_loss: 7.6797e-04 - val_accuracy: 0.0040\n",
      "Epoch 99/100\n",
      "1005/1005 [==============================] - 0s 211us/step - loss: 2.4338e-04 - accuracy: 9.9502e-04 - val_loss: 9.1033e-04 - val_accuracy: 0.0040\n",
      "Epoch 100/100\n",
      "1005/1005 [==============================] - 0s 199us/step - loss: 2.4450e-04 - accuracy: 9.9502e-04 - val_loss: 6.8256e-04 - val_accuracy: 0.0040\n"
     ]
    }
   ],
   "source": [
    "hist=regressor.fit(X_train,y_train,epochs=100,validation_split=0.2,batch_size=32)"
   ]
  },
  {
   "cell_type": "code",
   "execution_count": 123,
   "metadata": {},
   "outputs": [],
   "source": [
    "Pred=regressor.predict(X_test)"
   ]
  },
  {
   "cell_type": "code",
   "execution_count": 124,
   "metadata": {},
   "outputs": [],
   "source": [
    "y_pred=sc.inverse_transform(Pred)"
   ]
  },
  {
   "cell_type": "code",
   "execution_count": 125,
   "metadata": {},
   "outputs": [],
   "source": [
    "pred=pd.DataFrame(y_pred)"
   ]
  },
  {
   "cell_type": "code",
   "execution_count": 126,
   "metadata": {},
   "outputs": [],
   "source": [
    "pred.to_csv(\"pred.csv\",header=[\"High\"],index=False)"
   ]
  },
  {
   "cell_type": "code",
   "execution_count": null,
   "metadata": {},
   "outputs": [],
   "source": []
  }
 ],
 "metadata": {
  "kernelspec": {
   "display_name": "Python 3",
   "language": "python",
   "name": "python3"
  },
  "language_info": {
   "codemirror_mode": {
    "name": "ipython",
    "version": 3
   },
   "file_extension": ".py",
   "mimetype": "text/x-python",
   "name": "python",
   "nbconvert_exporter": "python",
   "pygments_lexer": "ipython3",
   "version": "3.6.8"
  }
 },
 "nbformat": 4,
 "nbformat_minor": 4
}
