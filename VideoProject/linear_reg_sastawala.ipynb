{
 "cells": [
  {
   "cell_type": "code",
   "execution_count": 8,
   "metadata": {},
   "outputs": [],
   "source": [
    "import numpy as np\n",
    "import random\n",
    "import matplotlib.pyplot as plt\n",
    "from sklearn.datasets import make_regression"
   ]
  },
  {
   "cell_type": "code",
   "execution_count": null,
   "metadata": {},
   "outputs": [],
   "source": []
  },
  {
   "cell_type": "code",
   "execution_count": 74,
   "metadata": {},
   "outputs": [],
   "source": [
    "class LinearSasta:\n",
    "    def __init__(self,lr=0.01,max_iter=20):\n",
    "        self.lr=lr\n",
    "        self.max_iter=max_iter\n",
    "        \n",
    "    def fit(self,X,y):\n",
    "        self._X=X\n",
    "        self._y=y.reshape(-1,1)\n",
    "\n",
    "        self.coeff_=np.random.random()\n",
    "        self.intercept_=np.random.random()\n",
    "        \n",
    "        errors = []\n",
    "        for i in range(self.max_iter):\n",
    "            self.gradient_dencend()\n",
    "            errors.append(self.error())\n",
    "            if ((errors[i-1]-errors[i])<0.001):\n",
    "                break\n",
    "#             \n",
    "        \n",
    "        return errors\n",
    "            \n",
    "            \n",
    "        \n",
    "    def gradient_descend(self):\n",
    "            d_coeff,d_intercept= self.gradient()\n",
    "            \n",
    "            self.coeff_-=d_coeff*self.lr\n",
    "            self.intercept_-=d_intercept*self.lr\n",
    "            \n",
    "    def gradient(self):\n",
    "            \n",
    "            yp=self.hypothesis(self._X)\n",
    "            d_coeff=((yp-self._y)*self._X).mean()\n",
    "            d_intercept=(yp-self._y).mean()\n",
    "            \n",
    "            return d_coeff,d_intercept\n",
    "            \n",
    "        \n",
    "    def hypothesis(self,X):\n",
    "        return (self.coeff_*X+self.intercept_)\n",
    "    \n",
    "    def predict(self,X):\n",
    "        return self.hypothesis(X).flatten()\n",
    "    \n",
    "    def error(self):\n",
    "        ya = self._y\n",
    "        yp = self.hypothesis(self._X)\n",
    "        \n",
    "        return ((yp-ya)**2).mean()"
   ]
  },
  {
   "cell_type": "code",
   "execution_count": 75,
   "metadata": {},
   "outputs": [
    {
     "name": "stdout",
     "output_type": "stream",
     "text": [
      "100\n"
     ]
    }
   ],
   "source": [
    "model = linearsasta(lr=1,max_iter=100)\n",
    "\n",
    "errors = model.fit(X, y)\n",
    "\n",
    "print(len(errors))\n"
   ]
  },
  {
   "cell_type": "code",
   "execution_count": 68,
   "metadata": {},
   "outputs": [],
   "source": [
    "# for lr in np.linspace(.5, 2, 5):\n",
    "\n",
    "#     model = linearsasta(lr=lr, max_iter=10)\n",
    "#     errors = model.fit(X, y)\n",
    "#     plt.figure()\n",
    "#     plt.title(str(lr))\n",
    "#     plt.plot(errors)"
   ]
  },
  {
   "cell_type": "code",
   "execution_count": null,
   "metadata": {},
   "outputs": [],
   "source": []
  },
  {
   "cell_type": "code",
   "execution_count": null,
   "metadata": {},
   "outputs": [],
   "source": []
  }
 ],
 "metadata": {
  "kernelspec": {
   "display_name": "Python 3",
   "language": "python",
   "name": "python3"
  },
  "language_info": {
   "codemirror_mode": {
    "name": "ipython",
    "version": 3
   },
   "file_extension": ".py",
   "mimetype": "text/x-python",
   "name": "python",
   "nbconvert_exporter": "python",
   "pygments_lexer": "ipython3",
   "version": "3.7.3"
  }
 },
 "nbformat": 4,
 "nbformat_minor": 2
}
