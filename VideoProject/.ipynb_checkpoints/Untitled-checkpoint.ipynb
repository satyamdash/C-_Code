{
 "cells": [
  {
   "cell_type": "code",
   "execution_count": 1,
   "metadata": {},
   "outputs": [],
   "source": [
    "import numpy as np\n",
    "import random\n",
    "import matplotlib.pyplot as plt\n",
    "from sklearn.datasets import make_regression"
   ]
  },
  {
   "cell_type": "code",
   "execution_count": 29,
   "metadata": {},
   "outputs": [],
   "source": [
    "class LinearRegCustom:\n",
    "    \n",
    "    def __init__(self, lr=.1, max_iter=20):\n",
    "        \n",
    "        self.lr = lr\n",
    "        self.max_iter = max_iter\n",
    "        \n",
    "    def fit(self, X, y):\n",
    "        self._X = X\n",
    "        self._y = y.reshape(-1, 1)\n",
    "        self.n_features = X.shape[1]\n",
    "        \n",
    "        self.coef_ = np.random.randn(self.n_features)\n",
    "        self.intercept_ = np.random.random()\n",
    "        \n",
    "        errors=[]\n",
    "        \n",
    "        for i in range(self.max_iter):\n",
    "            self.gradient_dencend()\n",
    "            errors.append(self.error())\n",
    "            \n",
    "        \n",
    "        return errors\n",
    "            \n",
    "    def gradient_dencend(self):\n",
    "        \n",
    "        d_coef, d_intercept = self.gradient()\n",
    "        self.coef_ -= d_coef * self.lr\n",
    "        self.intercept_ -= d_intercept * self.lr\n",
    "    \n",
    "    def gradient(self):\n",
    "        yp = self.hypothesis(self._X)\n",
    "        \n",
    "        d_coef = np.dot((yp - self._y).T ,self._X) / len(self._X)\n",
    "        d_intercept = ((yp - self._y)).mean()\n",
    "        \n",
    "        return d_coef.flatten(), d_intercept\n",
    "        \n",
    "    def hypothesis(self, X):\n",
    "        return np.sum(self.coef_ * X, axis=1, keepdims=True) + self.intercept_\n",
    "    \n",
    "    def predict(self, X):\n",
    "        return self.hypothesis(X).flatten()\n",
    "    \n",
    "    def error(self):\n",
    "        ya = self._y\n",
    "        yp = self.hypothesis(self._X)\n",
    "        \n",
    "        return ((yp-ya)**2).mean()"
   ]
  },
  {
   "cell_type": "code",
   "execution_count": 30,
   "metadata": {},
   "outputs": [
    {
     "name": "stdout",
     "output_type": "stream",
     "text": [
      "1\n"
     ]
    }
   ],
   "source": [
    "model = LinearRegCustom(lr=1,max_iter=100)\n",
    "X, y = make_regression(n_features=3, bias=100, noise=3, random_state=42)\n",
    "\n",
    "errors = model.fit(X, y)\n",
    "\n",
    "print(len(errors))\n"
   ]
  },
  {
   "cell_type": "code",
   "execution_count": 28,
   "metadata": {},
   "outputs": [
    {
     "name": "stdout",
     "output_type": "stream",
     "text": [
      "[1742.601367976355]\n"
     ]
    }
   ],
   "source": [
    "print(errors)"
   ]
  },
  {
   "cell_type": "code",
   "execution_count": null,
   "metadata": {},
   "outputs": [],
   "source": []
  }
 ],
 "metadata": {
  "kernelspec": {
   "display_name": "Python 3",
   "language": "python",
   "name": "python3"
  },
  "language_info": {
   "codemirror_mode": {
    "name": "ipython",
    "version": 3
   },
   "file_extension": ".py",
   "mimetype": "text/x-python",
   "name": "python",
   "nbconvert_exporter": "python",
   "pygments_lexer": "ipython3",
   "version": "3.7.3"
  }
 },
 "nbformat": 4,
 "nbformat_minor": 2
}
