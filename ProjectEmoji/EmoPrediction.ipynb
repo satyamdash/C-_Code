{
 "cells": [
  {
   "cell_type": "code",
   "execution_count": 1,
   "metadata": {},
   "outputs": [
    {
     "name": "stdout",
     "output_type": "stream",
     "text": [
      "Collecting emoji\n",
      "  Downloading https://files.pythonhosted.org/packages/40/8d/521be7f0091fe0f2ae690cc044faf43e3445e0ff33c574eae752dd7e39fa/emoji-0.5.4.tar.gz (43kB)\n",
      "Building wheels for collected packages: emoji\n",
      "  Building wheel for emoji (setup.py): started\n",
      "  Building wheel for emoji (setup.py): finished with status 'done'\n",
      "  Created wheel for emoji: filename=emoji-0.5.4-cp36-none-any.whl size=42181 sha256=f7dffc9bea9c3bebde87987a482285bcfba6847622c728fba1b59f9571abbe6e\n",
      "  Stored in directory: C:\\Users\\SATYAM GUPTA\\AppData\\Local\\pip\\Cache\\wheels\\2a\\a9\\0a\\4f8e8cce8074232aba240caca3fade315bb49fac68808d1a9c\n",
      "Successfully built emoji\n",
      "Installing collected packages: emoji\n",
      "Successfully installed emoji-0.5.4\n"
     ]
    }
   ],
   "source": [
    "!pip install emoji"
   ]
  },
  {
   "cell_type": "code",
   "execution_count": 1,
   "metadata": {},
   "outputs": [],
   "source": [
    "import emoji"
   ]
  },
  {
   "cell_type": "code",
   "execution_count": 2,
   "metadata": {},
   "outputs": [],
   "source": [
    "# emoji.EMOJI_UNICODE"
   ]
  },
  {
   "cell_type": "code",
   "execution_count": 3,
   "metadata": {},
   "outputs": [
    {
     "data": {
      "text/plain": [
       "'💪'"
      ]
     },
     "execution_count": 3,
     "metadata": {},
     "output_type": "execute_result"
    }
   ],
   "source": [
    "emoji.emojize(\":flexed_biceps:\")"
   ]
  },
  {
   "cell_type": "code",
   "execution_count": 4,
   "metadata": {},
   "outputs": [],
   "source": [
    "emo_dict={\n",
    "    \"0\" :\"\\u2764\\uFE0F\",\n",
    "    \"1\" :\":baseball:\",\n",
    "    \"2\" :':grinning_face_with_big_eyes:',\n",
    "    \"3\" :':disappointed_face:',\n",
    "    \"4\" :\":fork_and_knife:\"\n",
    "}"
   ]
  },
  {
   "cell_type": "code",
   "execution_count": 5,
   "metadata": {},
   "outputs": [
    {
     "name": "stdout",
     "output_type": "stream",
     "text": [
      "❤️\n",
      "⚾\n",
      "😃\n",
      "😞\n",
      "🍴\n"
     ]
    }
   ],
   "source": [
    "for e in emo_dict.values():\n",
    "    print(emoji.emojize(e))"
   ]
  },
  {
   "cell_type": "code",
   "execution_count": 6,
   "metadata": {},
   "outputs": [],
   "source": [
    "import pandas as pd\n",
    "import numpy as np"
   ]
  },
  {
   "cell_type": "code",
   "execution_count": 7,
   "metadata": {},
   "outputs": [],
   "source": [
    "train=pd.read_csv(\"train_emoji.csv\",header=None)\n",
    "test=pd.read_csv(\"test_emoji.csv\",header=None)"
   ]
  },
  {
   "cell_type": "code",
   "execution_count": 8,
   "metadata": {},
   "outputs": [],
   "source": [
    "data=train.values"
   ]
  },
  {
   "cell_type": "code",
   "execution_count": 9,
   "metadata": {},
   "outputs": [],
   "source": [
    "X_train=train[0]\n",
    "Y_train=train[1]"
   ]
  },
  {
   "cell_type": "code",
   "execution_count": 10,
   "metadata": {},
   "outputs": [],
   "source": [
    "X_test=test[0]\n",
    "Y_test=test[1]"
   ]
  },
  {
   "cell_type": "code",
   "execution_count": 11,
   "metadata": {},
   "outputs": [
    {
     "name": "stdout",
     "output_type": "stream",
     "text": [
      "never talk to me again 😞\n",
      "I am proud of your achievements 😃\n",
      "It is the worst day in my life 😞\n",
      "Miss you so much ❤️\n",
      "food is life 🍴\n"
     ]
    }
   ],
   "source": [
    "for i in range(5):\n",
    "    print(X_train[i],emoji.emojize(emo_dict[str(Y_train[i])]))\n",
    "    "
   ]
  },
  {
   "cell_type": "code",
   "execution_count": 12,
   "metadata": {},
   "outputs": [],
   "source": [
    "with open(\"glove.6B.50d.txt\",encoding=\"utf-8\") as f:\n",
    "    lines=f.readlines()"
   ]
  },
  {
   "cell_type": "code",
   "execution_count": 13,
   "metadata": {},
   "outputs": [],
   "source": [
    "embedding_index={}\n",
    "for line in lines:\n",
    "    value=line.split()\n",
    "    word=value[0]\n",
    "    coeff=np.asarray(value[1:],dtype='float')\n",
    "    embedding_index[word]=coeff\n",
    "f.close()\n",
    "    \n",
    "    \n",
    "    "
   ]
  },
  {
   "cell_type": "code",
   "execution_count": 14,
   "metadata": {},
   "outputs": [
    {
     "data": {
      "text/plain": [
       "50"
      ]
     },
     "execution_count": 14,
     "metadata": {},
     "output_type": "execute_result"
    }
   ],
   "source": [
    "emb_dim=embedding_index[\"eat\"].shape[0]\n",
    "emb_dim"
   ]
  },
  {
   "cell_type": "code",
   "execution_count": 15,
   "metadata": {},
   "outputs": [],
   "source": [
    "def embedding_out_(X):\n",
    "    maxlen=10\n",
    "    embedding_out=np.zeros((X.shape[0],maxlen,emb_dim))\n",
    "    \n",
    "    for ix in range(X.shape[0]):\n",
    "        X[ix]=X[ix].split()\n",
    "        for i in range(len(X[ix])):\n",
    "            try:\n",
    "                embedding_out[ix][i]=embedding_index[X[ix][i].lower()]\n",
    "            except:\n",
    "                embedding_out[ix][i]=np.zeros((50,))\n",
    "                \n",
    "    return embedding_out\n",
    "    "
   ]
  },
  {
   "cell_type": "code",
   "execution_count": 16,
   "metadata": {},
   "outputs": [
    {
     "name": "stderr",
     "output_type": "stream",
     "text": [
      "Using TensorFlow backend.\n"
     ]
    }
   ],
   "source": [
    "from keras.layers import *\n",
    "from keras.models import Model,Sequential"
   ]
  },
  {
   "cell_type": "code",
   "execution_count": 24,
   "metadata": {},
   "outputs": [
    {
     "name": "stdout",
     "output_type": "stream",
     "text": [
      "Model: \"sequential_2\"\n",
      "_________________________________________________________________\n",
      "Layer (type)                 Output Shape              Param #   \n",
      "=================================================================\n",
      "lstm_2 (LSTM)                (None, 10, 64)            29440     \n",
      "_________________________________________________________________\n",
      "dropout_2 (Dropout)          (None, 10, 64)            0         \n",
      "_________________________________________________________________\n",
      "lstm_3 (LSTM)                (None, 64)                33024     \n",
      "_________________________________________________________________\n",
      "dropout_3 (Dropout)          (None, 64)                0         \n",
      "_________________________________________________________________\n",
      "dense_2 (Dense)              (None, 5)                 325       \n",
      "=================================================================\n",
      "Total params: 62,789\n",
      "Trainable params: 62,789\n",
      "Non-trainable params: 0\n",
      "_________________________________________________________________\n"
     ]
    }
   ],
   "source": [
    "model=Sequential()\n",
    "model.add(LSTM(64,input_shape=(10,50),return_sequences=True))\n",
    "model.add(Dropout(0.5))\n",
    "model.add(LSTM(64,return_sequences=False))\n",
    "model.add(Dropout(0.5))\n",
    "model.add(Dense(5,activation=\"softmax\"))\n",
    "model.summary()"
   ]
  },
  {
   "cell_type": "code",
   "execution_count": 25,
   "metadata": {},
   "outputs": [],
   "source": [
    "model.compile(loss=\"categorical_crossentropy\",optimizer=\"adam\",metrics=[\"accuracy\"])"
   ]
  },
  {
   "cell_type": "code",
   "execution_count": 19,
   "metadata": {},
   "outputs": [],
   "source": [
    "from keras.utils import to_categorical"
   ]
  },
  {
   "cell_type": "code",
   "execution_count": 20,
   "metadata": {},
   "outputs": [],
   "source": [
    "Y_train=to_categorical(Y_train,num_classes=5)\n",
    "Y_test=to_categorical(Y_test,num_classes=5)"
   ]
  },
  {
   "cell_type": "code",
   "execution_count": 21,
   "metadata": {},
   "outputs": [
    {
     "name": "stderr",
     "output_type": "stream",
     "text": [
      "c:\\users\\satyam gupta\\appdata\\local\\programs\\python\\python36\\lib\\site-packages\\ipykernel_launcher.py:6: SettingWithCopyWarning: \n",
      "A value is trying to be set on a copy of a slice from a DataFrame\n",
      "\n",
      "See the caveats in the documentation: http://pandas.pydata.org/pandas-docs/stable/user_guide/indexing.html#returning-a-view-versus-a-copy\n",
      "  \n"
     ]
    }
   ],
   "source": [
    "embedding_train=embedding_out_(X_train)\n",
    "embedding_test=embedding_out_(X_test)"
   ]
  },
  {
   "cell_type": "code",
   "execution_count": 26,
   "metadata": {},
   "outputs": [
    {
     "name": "stdout",
     "output_type": "stream",
     "text": [
      "Train on 105 samples, validate on 27 samples\n",
      "Epoch 1/50\n",
      "105/105 [==============================] - 1s 10ms/step - loss: 1.6548 - accuracy: 0.1333 - val_loss: 1.5985 - val_accuracy: 0.2222\n",
      "Epoch 2/50\n",
      "105/105 [==============================] - 0s 620us/step - loss: 1.6140 - accuracy: 0.2286 - val_loss: 1.5953 - val_accuracy: 0.3333\n",
      "Epoch 3/50\n",
      "105/105 [==============================] - 0s 570us/step - loss: 1.5606 - accuracy: 0.3143 - val_loss: 1.5980 - val_accuracy: 0.2593\n",
      "Epoch 4/50\n",
      "105/105 [==============================] - 0s 667us/step - loss: 1.5383 - accuracy: 0.3143 - val_loss: 1.6055 - val_accuracy: 0.2593\n",
      "Epoch 5/50\n",
      "105/105 [==============================] - 0s 542us/step - loss: 1.5001 - accuracy: 0.3714 - val_loss: 1.6179 - val_accuracy: 0.2593\n",
      "Epoch 6/50\n",
      "105/105 [==============================] - 0s 521us/step - loss: 1.4767 - accuracy: 0.3905 - val_loss: 1.6332 - val_accuracy: 0.2593\n",
      "Epoch 7/50\n",
      "105/105 [==============================] - 0s 545us/step - loss: 1.4622 - accuracy: 0.3905 - val_loss: 1.6473 - val_accuracy: 0.2593\n",
      "Epoch 8/50\n",
      "105/105 [==============================] - 0s 562us/step - loss: 1.4522 - accuracy: 0.3524 - val_loss: 1.6531 - val_accuracy: 0.2593\n",
      "Epoch 9/50\n",
      "105/105 [==============================] - 0s 573us/step - loss: 1.4278 - accuracy: 0.4476 - val_loss: 1.6412 - val_accuracy: 0.2222\n",
      "Epoch 10/50\n",
      "105/105 [==============================] - 0s 572us/step - loss: 1.3678 - accuracy: 0.4857 - val_loss: 1.6205 - val_accuracy: 0.1852\n",
      "Epoch 11/50\n",
      "105/105 [==============================] - 0s 475us/step - loss: 1.3562 - accuracy: 0.5238 - val_loss: 1.5949 - val_accuracy: 0.1852\n",
      "Epoch 12/50\n",
      "105/105 [==============================] - 0s 625us/step - loss: 1.3019 - accuracy: 0.5524 - val_loss: 1.5696 - val_accuracy: 0.1852\n",
      "Epoch 13/50\n",
      "105/105 [==============================] - 0s 571us/step - loss: 1.2504 - accuracy: 0.6095 - val_loss: 1.5456 - val_accuracy: 0.1852\n",
      "Epoch 14/50\n",
      "105/105 [==============================] - 0s 478us/step - loss: 1.2277 - accuracy: 0.6095 - val_loss: 1.5132 - val_accuracy: 0.2222\n",
      "Epoch 15/50\n",
      "105/105 [==============================] - 0s 572us/step - loss: 1.1695 - accuracy: 0.6095 - val_loss: 1.4777 - val_accuracy: 0.3333\n",
      "Epoch 16/50\n",
      "105/105 [==============================] - 0s 538us/step - loss: 1.0994 - accuracy: 0.6190 - val_loss: 1.4691 - val_accuracy: 0.3333\n",
      "Epoch 17/50\n",
      "105/105 [==============================] - 0s 431us/step - loss: 1.0415 - accuracy: 0.6381 - val_loss: 1.4452 - val_accuracy: 0.3333\n",
      "Epoch 18/50\n",
      "105/105 [==============================] - 0s 617us/step - loss: 0.9678 - accuracy: 0.6190 - val_loss: 1.4064 - val_accuracy: 0.3333\n",
      "Epoch 19/50\n",
      "105/105 [==============================] - 0s 575us/step - loss: 0.9500 - accuracy: 0.6857 - val_loss: 1.3461 - val_accuracy: 0.2963\n",
      "Epoch 20/50\n",
      "105/105 [==============================] - 0s 615us/step - loss: 0.8991 - accuracy: 0.6667 - val_loss: 1.2823 - val_accuracy: 0.3704\n",
      "Epoch 21/50\n",
      "105/105 [==============================] - 0s 524us/step - loss: 0.8511 - accuracy: 0.7048 - val_loss: 1.2887 - val_accuracy: 0.4444\n",
      "Epoch 22/50\n",
      "105/105 [==============================] - 0s 619us/step - loss: 0.7814 - accuracy: 0.7524 - val_loss: 1.2656 - val_accuracy: 0.4074\n",
      "Epoch 23/50\n",
      "105/105 [==============================] - 0s 478us/step - loss: 0.7658 - accuracy: 0.7524 - val_loss: 1.1755 - val_accuracy: 0.4074\n",
      "Epoch 24/50\n",
      "105/105 [==============================] - 0s 473us/step - loss: 0.6530 - accuracy: 0.7524 - val_loss: 1.1278 - val_accuracy: 0.4815\n",
      "Epoch 25/50\n",
      "105/105 [==============================] - 0s 570us/step - loss: 0.7286 - accuracy: 0.7333 - val_loss: 1.0569 - val_accuracy: 0.4815\n",
      "Epoch 26/50\n",
      "105/105 [==============================] - 0s 525us/step - loss: 0.6144 - accuracy: 0.8381 - val_loss: 1.0660 - val_accuracy: 0.5556\n",
      "Epoch 27/50\n",
      "105/105 [==============================] - 0s 475us/step - loss: 0.6022 - accuracy: 0.8286 - val_loss: 1.0516 - val_accuracy: 0.5556\n",
      "Epoch 28/50\n",
      "105/105 [==============================] - 0s 522us/step - loss: 0.5496 - accuracy: 0.8476 - val_loss: 1.0171 - val_accuracy: 0.5556\n",
      "Epoch 29/50\n",
      "105/105 [==============================] - 0s 478us/step - loss: 0.5367 - accuracy: 0.8381 - val_loss: 0.9672 - val_accuracy: 0.5926\n",
      "Epoch 30/50\n",
      "105/105 [==============================] - 0s 573us/step - loss: 0.4814 - accuracy: 0.8381 - val_loss: 0.9412 - val_accuracy: 0.6667\n",
      "Epoch 31/50\n",
      "105/105 [==============================] - 0s 572us/step - loss: 0.4893 - accuracy: 0.8667 - val_loss: 0.9435 - val_accuracy: 0.6667\n",
      "Epoch 32/50\n",
      "105/105 [==============================] - 0s 570us/step - loss: 0.3656 - accuracy: 0.8667 - val_loss: 0.9577 - val_accuracy: 0.6667\n",
      "Epoch 33/50\n",
      "105/105 [==============================] - 0s 474us/step - loss: 0.3384 - accuracy: 0.8952 - val_loss: 0.9921 - val_accuracy: 0.6667\n",
      "Epoch 34/50\n",
      "105/105 [==============================] - 0s 478us/step - loss: 0.3500 - accuracy: 0.9048 - val_loss: 1.0300 - val_accuracy: 0.6296\n",
      "Epoch 35/50\n",
      "105/105 [==============================] - 0s 381us/step - loss: 0.3261 - accuracy: 0.8952 - val_loss: 1.0335 - val_accuracy: 0.7037\n",
      "Epoch 36/50\n",
      "105/105 [==============================] - 0s 522us/step - loss: 0.3739 - accuracy: 0.8762 - val_loss: 1.0413 - val_accuracy: 0.6667\n",
      "Epoch 37/50\n",
      "105/105 [==============================] - 0s 547us/step - loss: 0.2577 - accuracy: 0.9429 - val_loss: 1.0678 - val_accuracy: 0.6667\n",
      "Epoch 38/50\n",
      "105/105 [==============================] - 0s 788us/step - loss: 0.2470 - accuracy: 0.9048 - val_loss: 1.2313 - val_accuracy: 0.6296\n",
      "Epoch 39/50\n",
      "105/105 [==============================] - 0s 568us/step - loss: 0.3381 - accuracy: 0.8857 - val_loss: 1.0253 - val_accuracy: 0.6667\n",
      "Epoch 40/50\n",
      "105/105 [==============================] - 0s 668us/step - loss: 0.2007 - accuracy: 0.9524 - val_loss: 1.0225 - val_accuracy: 0.6667\n",
      "Epoch 41/50\n",
      "105/105 [==============================] - 0s 1ms/step - loss: 0.2555 - accuracy: 0.9238 - val_loss: 1.0369 - val_accuracy: 0.6667\n",
      "Epoch 42/50\n",
      "105/105 [==============================] - 0s 748us/step - loss: 0.1660 - accuracy: 0.9619 - val_loss: 1.0736 - val_accuracy: 0.7037\n",
      "Epoch 43/50\n",
      "105/105 [==============================] - 0s 500us/step - loss: 0.1821 - accuracy: 0.9429 - val_loss: 1.1542 - val_accuracy: 0.6667\n",
      "Epoch 44/50\n",
      "105/105 [==============================] - 0s 627us/step - loss: 0.1554 - accuracy: 0.9619 - val_loss: 1.4313 - val_accuracy: 0.6296\n",
      "Epoch 45/50\n",
      "105/105 [==============================] - 0s 483us/step - loss: 0.1461 - accuracy: 0.9619 - val_loss: 1.3463 - val_accuracy: 0.6667\n",
      "Epoch 46/50\n",
      "105/105 [==============================] - 0s 692us/step - loss: 0.1085 - accuracy: 0.9810 - val_loss: 1.1749 - val_accuracy: 0.7407\n",
      "Epoch 47/50\n",
      "105/105 [==============================] - 0s 546us/step - loss: 0.1446 - accuracy: 0.9524 - val_loss: 1.3392 - val_accuracy: 0.6296\n",
      "Epoch 48/50\n",
      "105/105 [==============================] - 0s 533us/step - loss: 0.1181 - accuracy: 0.9714 - val_loss: 1.5116 - val_accuracy: 0.6296\n",
      "Epoch 49/50\n",
      "105/105 [==============================] - 0s 512us/step - loss: 0.1730 - accuracy: 0.9524 - val_loss: 1.1092 - val_accuracy: 0.6667\n",
      "Epoch 50/50\n",
      "105/105 [==============================] - 0s 501us/step - loss: 0.1007 - accuracy: 0.9714 - val_loss: 1.1958 - val_accuracy: 0.6667\n"
     ]
    }
   ],
   "source": [
    "hist=model.fit(embedding_train,Y_train,epochs=50,batch_size=64,shuffle=True,validation_split=0.2)"
   ]
  },
  {
   "cell_type": "code",
   "execution_count": 27,
   "metadata": {},
   "outputs": [
    {
     "name": "stdout",
     "output_type": "stream",
     "text": [
      "56/56 [==============================] - 0s 359us/step\n"
     ]
    },
    {
     "data": {
      "text/plain": [
       "[1.657679123537881, 0.625]"
      ]
     },
     "execution_count": 27,
     "metadata": {},
     "output_type": "execute_result"
    }
   ],
   "source": [
    "model.evaluate(embedding_test,Y_test)"
   ]
  },
  {
   "cell_type": "code",
   "execution_count": null,
   "metadata": {},
   "outputs": [],
   "source": []
  },
  {
   "cell_type": "code",
   "execution_count": null,
   "metadata": {},
   "outputs": [],
   "source": []
  },
  {
   "cell_type": "code",
   "execution_count": null,
   "metadata": {},
   "outputs": [],
   "source": []
  },
  {
   "cell_type": "code",
   "execution_count": null,
   "metadata": {},
   "outputs": [],
   "source": []
  }
 ],
 "metadata": {
  "kernelspec": {
   "display_name": "Python 3",
   "language": "python",
   "name": "python3"
  },
  "language_info": {
   "codemirror_mode": {
    "name": "ipython",
    "version": 3
   },
   "file_extension": ".py",
   "mimetype": "text/x-python",
   "name": "python",
   "nbconvert_exporter": "python",
   "pygments_lexer": "ipython3",
   "version": "3.6.8"
  }
 },
 "nbformat": 4,
 "nbformat_minor": 4
}
