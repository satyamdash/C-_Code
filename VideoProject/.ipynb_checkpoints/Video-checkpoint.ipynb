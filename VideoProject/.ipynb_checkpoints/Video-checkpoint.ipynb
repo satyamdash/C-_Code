{
 "cells": [
  {
   "cell_type": "code",
   "execution_count": 2,
   "metadata": {},
   "outputs": [],
   "source": [
    "import cv2\n",
    "import numpy as np\n",
    "import matplotlib.pyplot as plt"
   ]
  },
  {
   "cell_type": "code",
   "execution_count": 3,
   "metadata": {},
   "outputs": [],
   "source": [
    "cap = cv2.VideoCapture('sample.mp4')\n",
    "out = cv2.VideoWriter('outpy.mov',cv2.VideoWriter_fourcc('M','J','P','G'), 10, (1080,1920))\n",
    "shift=0\n",
    "logo=cv2.imread(\"cb.png\",cv2.IMREAD_UNCHANGED)\n",
    "cb_rgba=cv2.cvtColor(logo,cv2.COLOR_BGRA2RGBA)\n",
    "logo_small=cv2.resize(cb_rgba,(150,150))\n",
    "x,y,w,h = 0,0,logo_small.shape[1],logo_small.shape[0]\n",
    "alpha_logo=logo_small[:,:,3]\n",
    "\n",
    "\n",
    "while(True):\n",
    "  ret, frame = cap.read()\n",
    " \n",
    "  if ret == True:\n",
    "    for row in range(h):\n",
    "        for col in range(w):\n",
    "            frame[row+w,col+shift]=logo_small[row,col,:3]\n",
    "     \n",
    "    out.write(frame)\n",
    "    shift+=3\n",
    "    cv2.imshow('frame',frame)\n",
    "\n",
    "    if cv2.waitKey(1) & 0xFF == ord('q'):\n",
    "      break\n",
    " \n",
    "\n",
    "  else:\n",
    "    break \n",
    " \n",
    "\n",
    "cap.release()\n",
    "out.release()\n",
    " \n",
    "# Closes all the frames\n",
    "cv2.destroyAllWindows() "
   ]
  },
  {
   "cell_type": "code",
   "execution_count": null,
   "metadata": {},
   "outputs": [],
   "source": []
  }
 ],
 "metadata": {
  "kernelspec": {
   "display_name": "Python 3",
   "language": "python",
   "name": "python3"
  },
  "language_info": {
   "codemirror_mode": {
    "name": "ipython",
    "version": 3
   },
   "file_extension": ".py",
   "mimetype": "text/x-python",
   "name": "python",
   "nbconvert_exporter": "python",
   "pygments_lexer": "ipython3",
   "version": "3.7.3"
  }
 },
 "nbformat": 4,
 "nbformat_minor": 2
}
