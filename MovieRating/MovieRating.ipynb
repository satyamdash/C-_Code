{
 "cells": [
  {
   "cell_type": "code",
   "execution_count": 3,
   "metadata": {},
   "outputs": [],
   "source": [
    "import pandas as pd\n",
    "from sklearn.naive_bayes import MultinomialNB,BernoulliNB\n",
    "import numpy as np"
   ]
  },
  {
   "cell_type": "code",
   "execution_count": 11,
   "metadata": {},
   "outputs": [],
   "source": [
    "X_train=pd.read_csv('Train.csv')\n",
    "X_test=pd.read_csv('Test.csv')"
   ]
  },
  {
   "cell_type": "code",
   "execution_count": 14,
   "metadata": {},
   "outputs": [],
   "source": [
    "train_review=X_train.iloc[:,0]\n",
    "train_response=X_train.iloc[:,1]\n",
    "test_review=X_test.iloc[:,0]"
   ]
  },
  {
   "cell_type": "code",
   "execution_count": 18,
   "metadata": {},
   "outputs": [],
   "source": [
    "from nltk.tokenize import RegexpTokenizer\n",
    "from nltk.corpus import stopwords\n",
    "from nltk.stem import PorterStemmer\n",
    "\n",
    "\n",
    "tokenizer=RegexpTokenizer(r'\\w+')\n",
    "stop=stopwords.words('english')\n",
    "ps=PorterStemmer()\n",
    "\n",
    "def cleaning(reviews):\n",
    "    reviews=reviews.lower()\n",
    "    reviews=reviews.replace(\"<br /><br />\",\" \")\n",
    "    \n",
    "    \n",
    "    tokens=tokenizer.tokenize(reviews)\n",
    "    clean=[w for w in tokens if w not in stop]\n",
    "    stemmed=[ps.stem(word) for word  in  clean]\n",
    "    cleaned_review=' '.join(stemmed)\n",
    "    return cleaned_review\n",
    "\n",
    "# cleaning(text)\n",
    "\n",
    "def getstemmedout(input_file):\n",
    "    \n",
    "    with open(input_file,encoding='utf8') as f:\n",
    "        reviews=f.readlines()\n",
    "        \n",
    "    for review in reviews:\n",
    "        cleaned=cleaning(review)\n",
    "        \n",
    "    with open(\"cleaned.txt\",'w') as t:\n",
    "        t.write(cleaned)\n",
    "\n",
    "x_train=[cleaning(i) for i in train_review]\n",
    "\n",
    "x_test=[cleaning(i) for i in test_review]\n",
    "\n",
    "\n",
    "from sklearn.feature_extraction.text import CountVectorizer\n",
    "\n",
    "cv=CountVectorizer()\n",
    "\n",
    "x_trainvec=cv.fit_transform(x_train)\n",
    "x_testvec=cv.transform(x_test)\n",
    "\n",
    "# x_vec\n",
    "\n",
    "#  print(cv.get_feature_names())\n",
    "\n",
    "## For testing Data we wiil only apply cv.transform \n",
    "\n",
    "from sklearn.naive_bayes import MultinomialNB,BernoulliNB\n",
    "\n",
    "model1=MultinomialNB()\n",
    "\n",
    "model1.fit(x_trainvec,train_response)\n",
    "\n",
    "\n",
    "\n",
    "\n",
    "\n",
    "pred=model1.predict(x_testvec)\n",
    "\n"
   ]
  },
  {
   "cell_type": "code",
   "execution_count": 90,
   "metadata": {},
   "outputs": [],
   "source": [
    "predictions=pd.DataFrame(pred)"
   ]
  },
  {
   "cell_type": "code",
   "execution_count": 91,
   "metadata": {},
   "outputs": [],
   "source": [
    "predictions.index+=1\n",
    "predictions.to_csv('predictions.csv',index=True,header=['label'],index_label='Id')"
   ]
  },
  {
   "cell_type": "code",
   "execution_count": 93,
   "metadata": {},
   "outputs": [],
   "source": [
    "# pd.read_csv('predictions.csv')\n"
   ]
  },
  {
   "cell_type": "code",
   "execution_count": 95,
   "metadata": {},
   "outputs": [],
   "source": [
    "# X_train"
   ]
  },
  {
   "cell_type": "code",
   "execution_count": null,
   "metadata": {},
   "outputs": [],
   "source": []
  }
 ],
 "metadata": {
  "kernelspec": {
   "display_name": "Python 3",
   "language": "python",
   "name": "python3"
  },
  "language_info": {
   "codemirror_mode": {
    "name": "ipython",
    "version": 3
   },
   "file_extension": ".py",
   "mimetype": "text/x-python",
   "name": "python",
   "nbconvert_exporter": "python",
   "pygments_lexer": "ipython3",
   "version": "3.7.3"
  }
 },
 "nbformat": 4,
 "nbformat_minor": 4
}
